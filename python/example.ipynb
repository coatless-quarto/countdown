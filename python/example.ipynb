{
 "cells": [
  {
   "cell_type": "code",
   "execution_count": 1,
   "metadata": {},
   "outputs": [],
   "source": [
    "import countdown"
   ]
  },
  {
   "cell_type": "code",
   "execution_count": 13,
   "metadata": {},
   "outputs": [
    {
     "data": {
      "text/html": [
       "<div class=\"countdown\" id=\"timer_810734f6-291d-495b-83ea-f15aca57e261\" data-warn-when=\"0\" data-update-every=\"1\" data-blink-colon=\"true\" tabIndex=\"0\">\n",
       "  <div class=\"countdown-controls\">\n",
       "    <button class=\"countdown-bump-down\">−</button><button class=\"countdown-bump-up\">+</button>\n",
       "  </div>\n",
       "  <code class=\"countdown-time\"><span class=\"countdown-digits minutes\">01</span><span class=\"countdown-digits colon\">:</span><span class=\"countdown-digits seconds\">00</span></code>\n",
       "</div>"
      ]
     },
     "metadata": {
      "text/html": {
       "text/html": {
        "isolated": true
       }
      }
     },
     "output_type": "display_data"
    }
   ],
   "source": [
    "countdown.countdown().show()"
   ]
  },
  {
   "cell_type": "code",
   "execution_count": 11,
   "metadata": {},
   "outputs": [
    {
     "data": {
      "text/plain": [
       "'<style>:root { --countdown-font-size:5rem;--countdown-margin:0.6em;--countdown-padding:10px 15px;--countdown-box-shadow:0px 4px 10px 0px rgba(50, 50, 50, 0.4);--countdown-border-width:0.1875rem;--countdown-border-radius:0.9rem;--countdown-line-height:1;--countdown-color-border:#ddd;--countdown-color-background:inherit;--countdown-color-text:inherit;--countdown-color-running-background:#43AC6A;--countdown-color-running-border:#2A9B59FF;--countdown-color-running-text:inherit;--countdown-color-finished-background:#F04124;--countdown-color-finished-border:#DE3000FF;--countdown-color-finished-text:inherit;--countdown-color-warning-background:#E6C229;--countdown-color-warning-border:#CEAC04FF;--countdown-color-warning-text:inherit; }</style>'"
      ]
     },
     "execution_count": 11,
     "metadata": {},
     "output_type": "execute_result"
    }
   ],
   "source": [
    "str(\n",
    "    countdown.countdown_style(\n",
    "        font_size=\"5rem\"\n",
    "    )\n",
    ")"
   ]
  }
 ],
 "metadata": {
  "kernelspec": {
   "display_name": "Python 3",
   "language": "python",
   "name": "python3"
  },
  "language_info": {
   "codemirror_mode": {
    "name": "ipython",
    "version": 3
   },
   "file_extension": ".py",
   "mimetype": "text/x-python",
   "name": "python",
   "nbconvert_exporter": "python",
   "pygments_lexer": "ipython3",
   "version": "3.10.13"
  }
 },
 "nbformat": 4,
 "nbformat_minor": 2
}
